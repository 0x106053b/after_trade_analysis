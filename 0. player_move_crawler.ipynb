{
 "cells": [
  {
   "cell_type": "code",
   "execution_count": 1,
   "metadata": {},
   "outputs": [],
   "source": [
    "import time\n",
    "from selenium import webdriver\n",
    "from selenium.webdriver.common.by import By\n",
    "from bs4 import BeautifulSoup\n",
    "import requests\n",
    "import pandas as pd\n",
    "import numpy as np\n",
    "import json\n",
    "import warnings\n",
    "from tqdm import tqdm\n",
    "warnings.simplefilter(action='ignore', category=FutureWarning)"
   ]
  },
  {
   "cell_type": "code",
   "execution_count": 2,
   "metadata": {},
   "outputs": [],
   "source": [
    "# 2020년대 트레이드 내역 데이터 불러오기\n",
    "with open(\"player_moves/trade_list_2020s.json\") as f:\n",
    "    trades = json.load(f)\n",
    "\n",
    "# 2020년데 지명권 트레이드 결과 데이터 불러오기\n",
    "draft_tickets = pd.read_csv(\"player_moves/draft_tickets_2020s.csv\", keep_default_na=False)"
   ]
  },
  {
   "cell_type": "code",
   "execution_count": 3,
   "metadata": {},
   "outputs": [],
   "source": [
    "def find_team(input_string):\n",
    "    substrings = ['KIA', '해태', '삼성', 'OB', '두산', 'SK', 'SSG', '삼미', '청보', '태평양', '현대',\n",
    "        'MBC', 'LG', '롯데', '빙그레', '한화', 'NC', 'KT', '넥센', '키움', '히어로즈', '쌍방울']\n",
    "    for substring in substrings:\n",
    "        if substring in input_string:\n",
    "            return substring\n",
    "    return None "
   ]
  },
  {
   "cell_type": "code",
   "execution_count": 4,
   "metadata": {},
   "outputs": [],
   "source": [
    "def new_team_name(team):\n",
    "    if team == '해태':\n",
    "        return 'KIA'\n",
    "    elif team == 'OB':\n",
    "        return '두산'\n",
    "    elif team == 'SK':\n",
    "        return 'SSG'\n",
    "    elif team in ['삼미', '청보', '태평양']:\n",
    "        return '현대'\n",
    "    elif team == 'MBC':\n",
    "        return 'LG'\n",
    "    elif team == '빙그레':\n",
    "        return '한화'\n",
    "    elif team in ['히어로즈', '넥센']:\n",
    "        return '키움'\n",
    "    else:\n",
    "        return team"
   ]
  },
  {
   "cell_type": "markdown",
   "metadata": {},
   "source": [
    "#### 2020년대 트레이드된 선수들의 팀 이동 기록 크롤링"
   ]
  },
  {
   "cell_type": "code",
   "execution_count": 5,
   "metadata": {},
   "outputs": [
    {
     "name": "stderr",
     "output_type": "stream",
     "text": [
      "  0%|          | 0/40 [00:00<?, ?it/s]"
     ]
    },
    {
     "name": "stderr",
     "output_type": "stream",
     "text": [
      "100%|██████████| 40/40 [16:06<00:00, 24.16s/it]\n"
     ]
    }
   ],
   "source": [
    "for trade in tqdm(trades):\n",
    "    for x in trade[\"playerA\"] + trade[\"playerB\"]:\n",
    "        if x[\"type\"] == \"money\":\n",
    "            continue\n",
    "\n",
    "        elif x[\"type\"] == \"draft\":\n",
    "            player_id = draft_tickets.loc[(draft_tickets[\"id\"] == trade[\"id\"]) & \\\n",
    "                + (draft_tickets[\"지명라운드\"] == x[\"round\"]), \"statizId\"].item()\n",
    "            name = draft_tickets.loc[(draft_tickets[\"id\"] == trade[\"id\"]) & \\\n",
    "                + (draft_tickets[\"지명라운드\"] == x[\"round\"]), \"선수\"].item()\n",
    "            \n",
    "            if player_id == '':\n",
    "                continue\n",
    "\n",
    "        else:\n",
    "            name = x[\"name\"]\n",
    "            player_id = x[\"statizId\"]\n",
    "\n",
    "        player_url = f\"https://statiz.sporki.com/player/?m=playerinfo&p_no={player_id}\"\n",
    "        driver = webdriver.Chrome()\n",
    "        driver.get(player_url)\n",
    "        time.sleep(0.5)\n",
    "\n",
    "        rows = driver.find_elements(By.CSS_SELECTOR, \"body > div.warp > div.container > section > div.box_type_boared > div:nth-child(5) > div > div > div.box_cont > div > table > tbody > tr\")\n",
    "        move_list = []\n",
    "        for index, row in enumerate(rows):\n",
    "            td = list(map(lambda x : x.text, row.find_elements(By.CSS_SELECTOR, \"tr > td\")))\n",
    "            if index == 0:\n",
    "                move_list.append({\"start_date\" : str(td[0])[:4] + \"-01-01\", \n",
    "                                    \"team\" : new_team_name(find_team(str(td[2])))})\n",
    "\n",
    "            else:\n",
    "                team = new_team_name(td[2][td[2].find(\">\")+2:td[2].find(\"/\")-1])\n",
    "                if team == '':\n",
    "                    team = new_team_name(td[2][td[2].find(\">\")+2:])\n",
    "\n",
    "                if move_list[-1][\"team\"] == new_team_name(team):\n",
    "                    continue\n",
    "                else:\n",
    "                    move_list.append({\"start_date\" : td[2][:td[2].find(\",\")], \n",
    "                                        \"team\" : new_team_name(team)})\n",
    "\n",
    "        move_json = {\n",
    "            \"name\" : name,\n",
    "            \"statizId\" : player_id,\n",
    "            \"team_history\" : move_list\n",
    "        }\n",
    "\n",
    "        driver.quit()\n",
    "\n",
    "        with open(f\"player_moves/{name}_{player_id}_team_history.json\", 'w', encoding='UTF-8-sig') as file:\n",
    "            file.write(json.dumps(move_json, ensure_ascii=False, indent=2))"
   ]
  }
 ],
 "metadata": {
  "kernelspec": {
   "display_name": "tf",
   "language": "python",
   "name": "python3"
  },
  "language_info": {
   "codemirror_mode": {
    "name": "ipython",
    "version": 3
   },
   "file_extension": ".py",
   "mimetype": "text/x-python",
   "name": "python",
   "nbconvert_exporter": "python",
   "pygments_lexer": "ipython3",
   "version": "3.10.13"
  }
 },
 "nbformat": 4,
 "nbformat_minor": 2
}
