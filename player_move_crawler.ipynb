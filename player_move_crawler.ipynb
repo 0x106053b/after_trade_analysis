{
 "cells": [
  {
   "cell_type": "code",
   "execution_count": 177,
   "metadata": {},
   "outputs": [],
   "source": [
    "import time\n",
    "from selenium import webdriver\n",
    "from selenium.webdriver.common.by import By\n",
    "from bs4 import BeautifulSoup\n",
    "import requests\n",
    "import pandas as pd"
   ]
  },
  {
   "cell_type": "code",
   "execution_count": 178,
   "metadata": {},
   "outputs": [],
   "source": [
    "url = \"https://www.koreabaseball.com/Player/Trade.aspx\"\n",
    "driver = webdriver.Chrome()\n",
    "driver.get(url)"
   ]
  },
  {
   "cell_type": "code",
   "execution_count": 179,
   "metadata": {},
   "outputs": [],
   "source": [
    "selYear_options = driver.find_elements(By.CSS_SELECTOR, \"#selYear > option\") # 2017 ~ 2025 옵션 elements\n",
    "selYear_2020s = list(filter(lambda x : int(x.text) >= 2020, selYear_options)) # 2020 ~ 2025 옵션들만 필터링"
   ]
  },
  {
   "cell_type": "code",
   "execution_count": 180,
   "metadata": {},
   "outputs": [],
   "source": [
    "search_button = driver.find_element(By.CSS_SELECTOR, \"#btnSearch\")"
   ]
  },
  {
   "cell_type": "code",
   "execution_count": 181,
   "metadata": {},
   "outputs": [],
   "source": [
    "selYear_2020s[0].click()\n",
    "search_button.click()\n",
    "table = driver.find_element(By.CSS_SELECTOR, \"#tblTradeList\") # 현재 페이지의 표 추출하기\n",
    "thead = table.find_elements(By.CSS_SELECTOR, \"#tblTradeList > thead > tr > th\") # colnames 추출하기"
   ]
  },
  {
   "cell_type": "code",
   "execution_count": null,
   "metadata": {},
   "outputs": [
    {
     "name": "stdout",
     "output_type": "stream",
     "text": [
      "다음으로 넘어가는 버튼 업뜸\n"
     ]
    }
   ],
   "source": [
    "player_move_list = []\n",
    "\n",
    "for selYear in selYear_2020s:\n",
    "    selYear.click() # 연도 옵션 선택 후\n",
    "    search_button.click() # 검색 버튼 클릭하여 연도별 선수이동목록 불러오기\n",
    "    time.sleep(1)\n",
    "    while True:\n",
    "        table = driver.find_element(By.CSS_SELECTOR, \"#tblTradeList\") # 현재 페이지의 표 추출하기\n",
    "        tbody = table.find_elements(By.CSS_SELECTOR, \"#tblTradeList > tbody > tr\") # table의 각 row 추출하기\n",
    "        for index, value in enumerate(tbody):\n",
    "            td = value.find_elements(By.CSS_SELECTOR, \"td\")\n",
    "            if len(td) > 1:\n",
    "                player_move_list.append([x.text for x in td])\n",
    "        \n",
    "        try:\n",
    "            next_button = driver.find_element(By.CSS_SELECTOR, \"#contents > div.sub-content > div.paging > a.pg_next\")\n",
    "        except:\n",
    "            break\n",
    "        else:\n",
    "            if \"disabled\" in next_button.get_attribute(\"class\"): # 해당 년도의 마지막 페이지까지 이동한 경우\n",
    "                break # 다음 년도로 이동\n",
    "            else:\n",
    "                next_button.click()\n",
    "                time.sleep(1)"
   ]
  },
  {
   "cell_type": "code",
   "execution_count": 185,
   "metadata": {},
   "outputs": [],
   "source": [
    "df = pd.DataFrame(player_move_list, columns=[x.text for x in thead])"
   ]
  },
  {
   "cell_type": "code",
   "execution_count": 201,
   "metadata": {},
   "outputs": [],
   "source": [
    "df[\"포지션\"] = df[\"선수\"].apply(lambda x : x[x.find(\"(\")+1:x.find(\")\")])\n",
    "df[\"선수\"] = df[\"선수\"].apply(lambda x : x[:x.find(\"(\")])"
   ]
  },
  {
   "cell_type": "code",
   "execution_count": 214,
   "metadata": {},
   "outputs": [],
   "source": [
    "df.to_csv(\"player_moves/move_list_2020s.csv\", index=False)"
   ]
  }
 ],
 "metadata": {
  "kernelspec": {
   "display_name": "tf",
   "language": "python",
   "name": "python3"
  },
  "language_info": {
   "codemirror_mode": {
    "name": "ipython",
    "version": 3
   },
   "file_extension": ".py",
   "mimetype": "text/x-python",
   "name": "python",
   "nbconvert_exporter": "python",
   "pygments_lexer": "ipython3",
   "version": "3.10.13"
  }
 },
 "nbformat": 4,
 "nbformat_minor": 2
}
