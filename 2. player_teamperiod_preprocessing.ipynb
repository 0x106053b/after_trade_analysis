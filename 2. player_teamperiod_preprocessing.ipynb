{
 "cells": [
  {
   "cell_type": "code",
   "execution_count": 2,
   "metadata": {},
   "outputs": [],
   "source": [
    "import pandas as pd\n",
    "import numpy as np\n",
    "import json\n",
    "import warnings\n",
    "from tqdm import tqdm\n",
    "import os\n",
    "from datetime import datetime, timedelta\n",
    "warnings.simplefilter(action='ignore', category=FutureWarning)"
   ]
  },
  {
   "cell_type": "markdown",
   "metadata": {},
   "source": [
    "#### 선수가 트레이드 직전/직후 속했던 팀의 스탯만 정제"
   ]
  },
  {
   "cell_type": "code",
   "execution_count": 2,
   "metadata": {},
   "outputs": [],
   "source": [
    "# 2020년대 트레이드 내역 데이터 불러오기\n",
    "with open(\"player_moves/trade_list_2020s.json\") as f:\n",
    "    trades = json.load(f)\n",
    "\n",
    "# 2020년대 지명권 트레이드 결과 데이터 불러오기\n",
    "draft_tickets = pd.read_csv(\"player_moves/draft_tickets_2020s.csv\", keep_default_na=False)\n",
    "\n",
    "# 2020년대 트레이드 선수 기본 데이터 불러오기\n",
    "player_info = pd.read_csv(\"player_stats/player_basic_info.csv\", index_col = 0)\n",
    "player_info[\"statizId\"] = player_info[\"statizId\"].astype(str)"
   ]
  },
  {
   "cell_type": "code",
   "execution_count": 3,
   "metadata": {},
   "outputs": [
    {
     "data": {
      "text/html": [
       "<div>\n",
       "<style scoped>\n",
       "    .dataframe tbody tr th:only-of-type {\n",
       "        vertical-align: middle;\n",
       "    }\n",
       "\n",
       "    .dataframe tbody tr th {\n",
       "        vertical-align: top;\n",
       "    }\n",
       "\n",
       "    .dataframe thead th {\n",
       "        text-align: right;\n",
       "    }\n",
       "</style>\n",
       "<table border=\"1\" class=\"dataframe\">\n",
       "  <thead>\n",
       "    <tr style=\"text-align: right;\">\n",
       "      <th></th>\n",
       "      <th>statizId</th>\n",
       "      <th>이름</th>\n",
       "      <th>팀</th>\n",
       "      <th>주포지션</th>\n",
       "      <th>투타</th>\n",
       "      <th>생년월일</th>\n",
       "      <th>출신학교</th>\n",
       "      <th>신인지명</th>\n",
       "      <th>활약년도</th>\n",
       "      <th>활약팀</th>\n",
       "    </tr>\n",
       "  </thead>\n",
       "  <tbody>\n",
       "    <tr>\n",
       "      <th>0</th>\n",
       "      <td>10404</td>\n",
       "      <td>장영석</td>\n",
       "      <td>KIA</td>\n",
       "      <td>3B</td>\n",
       "      <td>우투우타</td>\n",
       "      <td>1990년 05월 14일</td>\n",
       "      <td>신도초-성남중-부천고-방송통신대</td>\n",
       "      <td>09 히어로즈 2차 1라운드 3순위</td>\n",
       "      <td>2009년 ~ 2021년</td>\n",
       "      <td>넥센-KIA</td>\n",
       "    </tr>\n",
       "    <tr>\n",
       "      <th>1</th>\n",
       "      <td>11260</td>\n",
       "      <td>박준태</td>\n",
       "      <td>키움</td>\n",
       "      <td>CF</td>\n",
       "      <td>우투좌타</td>\n",
       "      <td>1991년 07월 26일</td>\n",
       "      <td>대연초-부산중-개성고-인하대</td>\n",
       "      <td>14 KIA 2차 6라운드 61순위</td>\n",
       "      <td>2014년 ~ 2023년</td>\n",
       "      <td>KIA-키움</td>\n",
       "    </tr>\n",
       "    <tr>\n",
       "      <th>2</th>\n",
       "      <td>13094</td>\n",
       "      <td>추재현</td>\n",
       "      <td>롯데</td>\n",
       "      <td>RF</td>\n",
       "      <td>좌투좌타</td>\n",
       "      <td>1999년 02월 22일</td>\n",
       "      <td>성동구-건대부중-신일고</td>\n",
       "      <td>18 넥센 2차 3라운드 28순위</td>\n",
       "      <td>2018년 ~ 2024년</td>\n",
       "      <td>키움-롯데</td>\n",
       "    </tr>\n",
       "  </tbody>\n",
       "</table>\n",
       "</div>"
      ],
      "text/plain": [
       "  statizId   이름    팀 주포지션    투타           생년월일               출신학교  \\\n",
       "0    10404  장영석  KIA   3B  우투우타  1990년 05월 14일  신도초-성남중-부천고-방송통신대   \n",
       "1    11260  박준태   키움   CF  우투좌타  1991년 07월 26일    대연초-부산중-개성고-인하대   \n",
       "2    13094  추재현   롯데   RF  좌투좌타  1999년 02월 22일       성동구-건대부중-신일고   \n",
       "\n",
       "                  신인지명           활약년도     활약팀  \n",
       "0  09 히어로즈 2차 1라운드 3순위  2009년 ~ 2021년  넥센-KIA  \n",
       "1  14 KIA 2차 6라운드 61순위  2014년 ~ 2023년  KIA-키움  \n",
       "2   18 넥센 2차 3라운드 28순위  2018년 ~ 2024년   키움-롯데  "
      ]
     },
     "execution_count": 3,
     "metadata": {},
     "output_type": "execute_result"
    }
   ],
   "source": [
    "player_info.head(3)"
   ]
  },
  {
   "cell_type": "code",
   "execution_count": 4,
   "metadata": {},
   "outputs": [],
   "source": [
    "def compare_dates(date1, date2):\n",
    "    # 문자열을 날짜 객체로 변환\n",
    "    date_format = \"%Y-%m-%d\"\n",
    "    date_obj1 = datetime.strptime(date1, date_format)\n",
    "    date_obj2 = datetime.strptime(date2, date_format)\n",
    "    \n",
    "    # 날짜 비교\n",
    "    return date_obj1 < date_obj2"
   ]
  },
  {
   "cell_type": "code",
   "execution_count": 5,
   "metadata": {},
   "outputs": [],
   "source": [
    "def before_after_none(ser, before_start, before_end, after_start, after_end):\n",
    "    return ser.apply(lambda x : \"before\" if (before_start <= x) & (x <= before_end) \\\n",
    "        else \"after\" if (after_start <= x) & (x <= after_end) else None)"
   ]
  },
  {
   "cell_type": "code",
   "execution_count": 6,
   "metadata": {},
   "outputs": [],
   "source": [
    "def stats_filtering(trade, name, player_id, game_type, player_type, before_start, before_end, after_start, after_end):\n",
    "    try:\n",
    "        batting_path = f\"player_stats/daily_stats/{game_type}/{player_type}_stats/{name}_{player_id}_dailyStats.csv\"\n",
    "        batting_df = pd.read_csv(batting_path, index_col = 0) \n",
    "        batting_df[\"날짜\"] = pd.to_datetime(batting_df[\"날짜\"])\n",
    "        batting_df[\"trade_team\"] = \\\n",
    "            before_after_none(batting_df[\"날짜\"], before_start, before_end, after_start, after_end)\n",
    "        batting_df.to_csv(f\"player_stats_processed/daily_stats/{game_type}/{player_type}_stats/{name}_{player_id}_{trade['id']}_dailyStats.csv\")\n",
    "    except:\n",
    "        print(f\"[batting] {name}_{player_id}_dailyStats.csv 파일이 없습니다.\")\n",
    "        return"
   ]
  },
  {
   "cell_type": "markdown",
   "metadata": {},
   "source": [
    "#### 날짜별 성적 필터링 - 정규시즌"
   ]
  },
  {
   "cell_type": "code",
   "execution_count": 7,
   "metadata": {},
   "outputs": [],
   "source": [
    "batter = [\"1B\", \"2B\", \"3B\", \"SS\", \"LF\", \"CF\", \"RF\", \"C\"]\n",
    "date_format = \"%Y-%m-%d\""
   ]
  },
  {
   "cell_type": "code",
   "execution_count": 8,
   "metadata": {},
   "outputs": [
    {
     "name": "stderr",
     "output_type": "stream",
     "text": [
      "100%|██████████| 40/40 [00:01<00:00, 25.43it/s]\n"
     ]
    }
   ],
   "source": [
    "for trade in tqdm(trades):\n",
    "    trade_date = trade[\"date\"]\n",
    "    for x in trade[\"playerA\"] + trade[\"playerB\"]:\n",
    "        # (1) 선수 기본정보 불러오기\n",
    "        if x[\"type\"] == \"money\":\n",
    "            continue\n",
    "        elif x[\"type\"] == \"draft\":\n",
    "            player_id = draft_tickets.loc[(draft_tickets[\"id\"] == trade[\"id\"]) & \\\n",
    "                + (draft_tickets[\"지명라운드\"] == x[\"round\"]), \"statizId\"].item()\n",
    "            name = draft_tickets.loc[(draft_tickets[\"id\"] == trade[\"id\"]) & \\\n",
    "                + (draft_tickets[\"지명라운드\"] == x[\"round\"]), \"선수\"].item()\n",
    "            if player_id == '':\n",
    "                continue\n",
    "        else:\n",
    "            name = x[\"name\"]\n",
    "            player_id = x[\"statizId\"]\n",
    "        position = \\\n",
    "            player_info.loc[(player_info[\"이름\"] == name) & \n",
    "                    (player_info[\"statizId\"] == player_id), \"주포지션\"].item()\n",
    "\n",
    "        # (2) 선수 이적정보 (소속 팀 이력) 불러오기\n",
    "        try:\n",
    "            team_history = f\"player_moves/{name}_{player_id}_team_history.json\"\n",
    "            with open(team_history, encoding='utf-8-sig') as f:\n",
    "                moves = json.load(f)\n",
    "        except:\n",
    "            print(f\"{name}_{player_id} 선수의 팀 이적 정보가 확인되지 않습니다.\")\n",
    "            continue\n",
    "        for idx, move in enumerate(moves[\"team_history\"]):     \n",
    "            if datetime.strptime(trade_date, date_format) <= datetime.strptime(move[\"start_date\"], date_format):\n",
    "                before_start = datetime.strptime(moves[\"team_history\"][idx-1][\"start_date\"], date_format)\n",
    "                after_start = datetime.strptime(move[\"start_date\"], date_format)\n",
    "                before_end = after_start - timedelta(days=1)\n",
    "                try:\n",
    "                    after_end = datetime.strptime(moves[\"team_history\"][idx+1][\"start_date\"], date_format) - timedelta(days=1)\n",
    "                except:\n",
    "                    after_end = datetime.today()\n",
    "                finally:\n",
    "                    break\n",
    "\n",
    "        # (3) 선수 트레이드 직전/직후만 필터링\n",
    "        if position in batter:\n",
    "            stats_filtering(trade, name, player_id, \"regular\", \"batting\", before_start, before_end, after_start, after_end)\n",
    "        else:\n",
    "            stats_filtering(trade, name, player_id, \"regular\", \"pitching\", before_start, before_end, after_start, after_end)"
   ]
  },
  {
   "cell_type": "markdown",
   "metadata": {},
   "source": [
    "#### 날짜별 성적 필터링 - 포스트시즌"
   ]
  },
  {
   "cell_type": "code",
   "execution_count": 9,
   "metadata": {},
   "outputs": [
    {
     "name": "stderr",
     "output_type": "stream",
     "text": [
      "100%|██████████| 40/40 [00:00<00:00, 51.25it/s]\n"
     ]
    }
   ],
   "source": [
    "for trade in tqdm(trades):\n",
    "    trade_date = trade[\"date\"]\n",
    "    for x in trade[\"playerA\"] + trade[\"playerB\"]:\n",
    "        # (1) 선수 기본정보 불러오기\n",
    "        if x[\"type\"] == \"money\":\n",
    "            continue\n",
    "        elif x[\"type\"] == \"draft\":\n",
    "            player_id = draft_tickets.loc[(draft_tickets[\"id\"] == trade[\"id\"]) & \\\n",
    "                + (draft_tickets[\"지명라운드\"] == x[\"round\"]), \"statizId\"].item()\n",
    "            name = draft_tickets.loc[(draft_tickets[\"id\"] == trade[\"id\"]) & \\\n",
    "                + (draft_tickets[\"지명라운드\"] == x[\"round\"]), \"선수\"].item()\n",
    "            if player_id == '':\n",
    "                continue\n",
    "        else:\n",
    "            name = x[\"name\"]\n",
    "            player_id = x[\"statizId\"]\n",
    "        position = \\\n",
    "            player_info.loc[(player_info[\"이름\"] == name) & \n",
    "                    (player_info[\"statizId\"] == player_id), \"주포지션\"].item()\n",
    "\n",
    "        # (2) 선수 이적정보 (소속 팀 이력) 불러오기\n",
    "        try:\n",
    "            team_history = f\"player_moves/{name}_{player_id}_team_history.json\"\n",
    "            with open(team_history, encoding='utf-8-sig') as f:\n",
    "                moves = json.load(f)\n",
    "        except:\n",
    "            print(f\"{name}_{player_id} 선수의 팀 이적 정보가 확인되지 않습니다.\")\n",
    "            continue\n",
    "        for idx, move in enumerate(moves[\"team_history\"]):     \n",
    "            if datetime.strptime(trade_date, date_format) <= datetime.strptime(move[\"start_date\"], date_format):\n",
    "                before_start = datetime.strptime(moves[\"team_history\"][idx-1][\"start_date\"], date_format)\n",
    "                after_start = datetime.strptime(move[\"start_date\"], date_format)\n",
    "                before_end = after_start - timedelta(days=1)\n",
    "                try:\n",
    "                    after_end = datetime.strptime(moves[\"team_history\"][idx+1][\"start_date\"], date_format) - timedelta(days=1)\n",
    "                except:\n",
    "                    after_end = datetime.today()\n",
    "                finally:\n",
    "                    break\n",
    "\n",
    "        # (3) 선수 트레이드 직전/직후만 필터링\n",
    "        if position in batter:\n",
    "            stats_filtering(trade, name, player_id, \"postseason\", \"batting\", before_start, before_end, after_start, after_end)\n",
    "        else:\n",
    "            stats_filtering(trade, name, player_id, \"postseason\", \"pitching\", before_start, before_end, after_start, after_end)"
   ]
  },
  {
   "cell_type": "code",
   "execution_count": 49,
   "metadata": {},
   "outputs": [],
   "source": [
    "for path1 in os.listdir(\"player_stats\"):\n",
    "    try:\n",
    "        for path2 in os.listdir(f\"player_stats/{path1}\"):\n",
    "            for path3 in os.listdir(f\"player_stats/{path1}/{path2}\"):\n",
    "                try:\n",
    "                    for path4 in os.listdir(f\"player_stats/{path1}/{path2}/{path3}\"):\n",
    "                        path = f\"player_stats/{path1}/{path2}/{path3}/{path4}\"\n",
    "                        df = pd.read_csv(path, index_col=0)\n",
    "                        df = df.loc[:,list(filter(lambda x : \"Unnamed\" not in x, list(df.columns)))]\n",
    "                        df[\"Team\"] = df[\"Team\"].apply(lambda x : \"키움\" if x==\"넥센\" else x)\n",
    "                        df[\"Team\"] = df[\"Team\"].apply(lambda x : \"키움\" if x==\"우리\" else x)\n",
    "                        df[\"Team\"] = df[\"Team\"].apply(lambda x : \"SSG\" if x==\"SK\" else x)\n",
    "                        df.to_csv(path)\n",
    "                except:\n",
    "                    pass\n",
    "    except:\n",
    "        pass"
   ]
  }
 ],
 "metadata": {
  "kernelspec": {
   "display_name": "tf",
   "language": "python",
   "name": "python3"
  },
  "language_info": {
   "codemirror_mode": {
    "name": "ipython",
    "version": 3
   },
   "file_extension": ".py",
   "mimetype": "text/x-python",
   "name": "python",
   "nbconvert_exporter": "python",
   "pygments_lexer": "ipython3",
   "version": "3.10.13"
  }
 },
 "nbformat": 4,
 "nbformat_minor": 2
}
